{
 "cells": [
  {
   "cell_type": "code",
   "execution_count": 1,
   "metadata": {},
   "outputs": [],
   "source": [
    "original_prica = [1, 5, 8, 9, 10, 17, 17, 20, 24, 30, 35]"
   ]
  },
  {
   "cell_type": "code",
   "execution_count": 2,
   "metadata": {},
   "outputs": [],
   "source": [
    "from collections import defaultdict"
   ]
  },
  {
   "cell_type": "code",
   "execution_count": 3,
   "metadata": {},
   "outputs": [],
   "source": [
    "price = defaultdict(int)"
   ]
  },
  {
   "cell_type": "code",
   "execution_count": 4,
   "metadata": {},
   "outputs": [],
   "source": [
    "for i,p in enumerate(original_prica):\n",
    "    price[i+1] = p"
   ]
  },
  {
   "cell_type": "code",
   "execution_count": 5,
   "metadata": {},
   "outputs": [
    {
     "data": {
      "text/plain": [
       "35"
      ]
     },
     "execution_count": 5,
     "metadata": {},
     "output_type": "execute_result"
    }
   ],
   "source": [
    "price[11]"
   ]
  },
  {
   "cell_type": "markdown",
   "metadata": {},
   "source": [
    "## Get the max splitting by enumerate"
   ]
  },
  {
   "cell_type": "code",
   "execution_count": 6,
   "metadata": {},
   "outputs": [
    {
     "data": {
      "text/plain": [
       "defaultdict(int,\n",
       "            {1: 1,\n",
       "             2: 5,\n",
       "             3: 8,\n",
       "             4: 9,\n",
       "             5: 10,\n",
       "             6: 17,\n",
       "             7: 17,\n",
       "             8: 20,\n",
       "             9: 24,\n",
       "             10: 30,\n",
       "             11: 35})"
      ]
     },
     "execution_count": 6,
     "metadata": {},
     "output_type": "execute_result"
    }
   ],
   "source": [
    "price"
   ]
  },
  {
   "cell_type": "code",
   "execution_count": 7,
   "metadata": {},
   "outputs": [],
   "source": [
    "def r(n):\n",
    "    \n",
    "    return max(\n",
    "        [price[n]] + [r(i) + r(n-i) for i in range(1,n)]\n",
    "    )"
   ]
  },
  {
   "cell_type": "code",
   "execution_count": 8,
   "metadata": {},
   "outputs": [
    {
     "data": {
      "text/plain": [
       "30"
      ]
     },
     "execution_count": 8,
     "metadata": {},
     "output_type": "execute_result"
    }
   ],
   "source": [
    "r(10)"
   ]
  },
  {
   "cell_type": "code",
   "execution_count": 9,
   "metadata": {},
   "outputs": [
    {
     "data": {
      "text/plain": [
       "45"
      ]
     },
     "execution_count": 9,
     "metadata": {},
     "output_type": "execute_result"
    }
   ],
   "source": [
    "r(15)"
   ]
  },
  {
   "cell_type": "code",
   "execution_count": 10,
   "metadata": {},
   "outputs": [],
   "source": [
    "import time"
   ]
  },
  {
   "cell_type": "code",
   "execution_count": 11,
   "metadata": {},
   "outputs": [],
   "source": [
    "#@get_time\n",
    "def fibonacci(n):\n",
    "    if n  <= 2:\n",
    "        return 1\n",
    "    else:\n",
    "        return fibonacci(n-1) + fibonacci(n-2)"
   ]
  },
  {
   "cell_type": "code",
   "execution_count": 12,
   "metadata": {},
   "outputs": [
    {
     "name": "stdout",
     "output_type": "stream",
     "text": [
      "5702887\n",
      "1.806950330734253\n"
     ]
    }
   ],
   "source": [
    "start = time.time()\n",
    "print(fibonacci(34))\n",
    "end = time.time()\n",
    "print(end-start)"
   ]
  },
  {
   "cell_type": "code",
   "execution_count": 13,
   "metadata": {},
   "outputs": [],
   "source": [
    "mem = defaultdict()\n",
    "def fibonacci_op(n):\n",
    "    if n in mem:\n",
    "        return mem[n]\n",
    "    else: \n",
    "        if n <= 2:\n",
    "            mem[n] = 1\n",
    "            return n\n",
    "        else:\n",
    "            result = fibonacci_op(n-1) + fibonacci_op(n-2)\n",
    "            mem[n] = result\n",
    "            return result"
   ]
  },
  {
   "cell_type": "code",
   "execution_count": 14,
   "metadata": {},
   "outputs": [
    {
     "name": "stdout",
     "output_type": "stream",
     "text": [
      "14662949395604\n",
      "0.0029981136322021484\n"
     ]
    }
   ],
   "source": [
    "start = time.time()\n",
    "print(fibonacci_op(64))\n",
    "end = time.time()\n",
    "print(end-start)"
   ]
  },
  {
   "cell_type": "markdown",
   "metadata": {},
   "source": [
    "# Analysis: How to optimize"
   ]
  },
  {
   "cell_type": "markdown",
   "metadata": {},
   "source": [
    "## A Simpler Problem"
   ]
  },
  {
   "cell_type": "markdown",
   "metadata": {},
   "source": [
    "### Decorator"
   ]
  },
  {
   "cell_type": "code",
   "execution_count": 15,
   "metadata": {},
   "outputs": [],
   "source": [
    "def get_time(func):\n",
    "    def wrapper(*args):\n",
    "        start = time.time()\n",
    "        func(*args)\n",
    "        end = time.time()\n",
    "        print('used time : {}'.format(end-start))\n",
    "    return wrapper"
   ]
  },
  {
   "cell_type": "code",
   "execution_count": 16,
   "metadata": {},
   "outputs": [],
   "source": [
    "def f1(func):\n",
    "    def wrapper(*args,**kwargs):\n",
    "        print('Started')\n",
    "        func(*args,**kwargs)\n",
    "        print('Ended')\n",
    "    return wrapper"
   ]
  },
  {
   "cell_type": "code",
   "execution_count": 17,
   "metadata": {},
   "outputs": [],
   "source": [
    "def f():\n",
    "    print('HELLO')"
   ]
  },
  {
   "cell_type": "code",
   "execution_count": 18,
   "metadata": {},
   "outputs": [],
   "source": [
    "f = f1(f)"
   ]
  },
  {
   "cell_type": "code",
   "execution_count": 19,
   "metadata": {},
   "outputs": [
    {
     "name": "stdout",
     "output_type": "stream",
     "text": [
      "wrapper\n"
     ]
    }
   ],
   "source": [
    "print(f.__name__)"
   ]
  },
  {
   "cell_type": "code",
   "execution_count": 20,
   "metadata": {},
   "outputs": [],
   "source": [
    "@f1\n",
    "def g(a):\n",
    "    print(a)"
   ]
  },
  {
   "cell_type": "code",
   "execution_count": 21,
   "metadata": {},
   "outputs": [
    {
     "name": "stdout",
     "output_type": "stream",
     "text": [
      "Started\n",
      "hello\n",
      "Ended\n"
     ]
    }
   ],
   "source": [
    "g('hello')"
   ]
  },
  {
   "cell_type": "code",
   "execution_count": 22,
   "metadata": {},
   "outputs": [],
   "source": [
    "def k(*arg,**kwargs):\n",
    "    print(kwargs)"
   ]
  },
  {
   "cell_type": "code",
   "execution_count": 23,
   "metadata": {},
   "outputs": [
    {
     "name": "stdout",
     "output_type": "stream",
     "text": [
      "{'b': 5}\n"
     ]
    }
   ],
   "source": [
    "k(6,b=5)"
   ]
  },
  {
   "cell_type": "code",
   "execution_count": 24,
   "metadata": {},
   "outputs": [],
   "source": [
    "from functools import wraps"
   ]
  },
  {
   "cell_type": "code",
   "execution_count": 25,
   "metadata": {},
   "outputs": [],
   "source": [
    "def memo(f):\n",
    "    memo.already_computed = {}\n",
    "    @wraps(f)\n",
    "    def _wrap(arg):\n",
    "        if arg in memo.already_computed:\n",
    "            result = memo.already_computed[arg]\n",
    "        else:\n",
    "            result = f(arg)\n",
    "            memo.already_computed[arg] = result\n",
    "        return result\n",
    "    return _wrap"
   ]
  },
  {
   "cell_type": "markdown",
   "metadata": {},
   "source": [
    "# We use this method to solve Cut Rod probelm¶"
   ]
  },
  {
   "cell_type": "code",
   "execution_count": 26,
   "metadata": {},
   "outputs": [],
   "source": [
    "solution = {}"
   ]
  },
  {
   "cell_type": "code",
   "execution_count": 27,
   "metadata": {},
   "outputs": [],
   "source": [
    "@memo\n",
    "def r(n):\n",
    "    \"\"\"\n",
    "    Args: n is the iron length\n",
    "    Return: the max revenue \n",
    "    \"\"\"\n",
    "    max_price, max_split = max(\n",
    "        [(price[n], 0)] + [(r(i) + r(n-i), i) for i in range(1, n)], key=lambda x: x[0]\n",
    "    )\n",
    "\n",
    "    solution[n] = (n - max_split, max_split)\n",
    "    \n",
    "    return max_price"
   ]
  },
  {
   "cell_type": "code",
   "execution_count": 28,
   "metadata": {},
   "outputs": [
    {
     "data": {
      "text/plain": [
       "60"
      ]
     },
     "execution_count": 28,
     "metadata": {},
     "output_type": "execute_result"
    }
   ],
   "source": [
    "r(20)"
   ]
  },
  {
   "cell_type": "code",
   "execution_count": 29,
   "metadata": {},
   "outputs": [
    {
     "data": {
      "text/plain": [
       "defaultdict(int,\n",
       "            {1: 1,\n",
       "             2: 5,\n",
       "             3: 8,\n",
       "             4: 9,\n",
       "             5: 10,\n",
       "             6: 17,\n",
       "             7: 17,\n",
       "             8: 20,\n",
       "             9: 24,\n",
       "             10: 30,\n",
       "             11: 35,\n",
       "             15: 0,\n",
       "             14: 0,\n",
       "             13: 0,\n",
       "             12: 0,\n",
       "             20: 0,\n",
       "             19: 0,\n",
       "             18: 0,\n",
       "             17: 0,\n",
       "             16: 0})"
      ]
     },
     "execution_count": 29,
     "metadata": {},
     "output_type": "execute_result"
    }
   ],
   "source": [
    "price"
   ]
  },
  {
   "cell_type": "code",
   "execution_count": 30,
   "metadata": {},
   "outputs": [
    {
     "data": {
      "text/plain": [
       "{1: (1, 0),\n",
       " 2: (2, 0),\n",
       " 3: (3, 0),\n",
       " 4: (2, 2),\n",
       " 5: (3, 2),\n",
       " 6: (6, 0),\n",
       " 7: (6, 1),\n",
       " 8: (6, 2),\n",
       " 9: (6, 3),\n",
       " 10: (10, 0),\n",
       " 11: (11, 0),\n",
       " 12: (11, 1),\n",
       " 13: (11, 2),\n",
       " 14: (11, 3),\n",
       " 15: (13, 2),\n",
       " 16: (14, 2),\n",
       " 17: (11, 6),\n",
       " 18: (17, 1),\n",
       " 19: (17, 2),\n",
       " 20: (17, 3)}"
      ]
     },
     "execution_count": 30,
     "metadata": {},
     "output_type": "execute_result"
    }
   ],
   "source": [
    "solution"
   ]
  },
  {
   "cell_type": "markdown",
   "metadata": {},
   "source": [
    "# How do we parse solution?¶"
   ]
  },
  {
   "cell_type": "code",
   "execution_count": 31,
   "metadata": {},
   "outputs": [],
   "source": [
    "def parse_solution(n):\n",
    "    left_split, right_split = solution[n]\n",
    "    \n",
    "    if right_split == 0: return [left_split]\n",
    "    \n",
    "    return parse_solution(left_split) + parse_solution(right_split)"
   ]
  },
  {
   "cell_type": "code",
   "execution_count": 32,
   "metadata": {},
   "outputs": [
    {
     "data": {
      "text/plain": [
       "75"
      ]
     },
     "execution_count": 32,
     "metadata": {},
     "output_type": "execute_result"
    }
   ],
   "source": [
    "r(24)"
   ]
  },
  {
   "cell_type": "code",
   "execution_count": 33,
   "metadata": {},
   "outputs": [
    {
     "data": {
      "text/plain": [
       "[11, 6, 3]"
      ]
     },
     "execution_count": 33,
     "metadata": {},
     "output_type": "execute_result"
    }
   ],
   "source": [
    "parse_solution(20)"
   ]
  },
  {
   "cell_type": "code",
   "execution_count": 34,
   "metadata": {},
   "outputs": [
    {
     "data": {
      "text/plain": [
       "157"
      ]
     },
     "execution_count": 34,
     "metadata": {},
     "output_type": "execute_result"
    }
   ],
   "source": [
    "r(50)"
   ]
  },
  {
   "cell_type": "code",
   "execution_count": 35,
   "metadata": {},
   "outputs": [
    {
     "data": {
      "text/plain": [
       "[11, 11, 11, 11, 6]"
      ]
     },
     "execution_count": 35,
     "metadata": {},
     "output_type": "execute_result"
    }
   ],
   "source": [
    "parse_solution(50)"
   ]
  },
  {
   "cell_type": "markdown",
   "metadata": {},
   "source": [
    "# Edit Distance"
   ]
  },
  {
   "cell_type": "code",
   "execution_count": 36,
   "metadata": {},
   "outputs": [],
   "source": [
    "solution = {}"
   ]
  },
  {
   "cell_type": "code",
   "execution_count": 37,
   "metadata": {},
   "outputs": [],
   "source": [
    "from functools import lru_cache"
   ]
  },
  {
   "cell_type": "code",
   "execution_count": 38,
   "metadata": {},
   "outputs": [],
   "source": [
    "@lru_cache(maxsize=2**10)\n",
    "def edit_distance(string1, string2):\n",
    "    \n",
    "    if len(string1) == 0: return len(string2)\n",
    "    if len(string2) == 0: return len(string1)\n",
    "    \n",
    "    tail_s1 = string1[-1]\n",
    "    tail_s2 = string2[-1]\n",
    "    \n",
    "    candidates = [\n",
    "        (edit_distance(string1[:-1], string2) + 1, 'DEL {}'.format(tail_s1)),  \n",
    "        # string 1 delete tail\n",
    "        (edit_distance(string1, string2[:-1]) + 1, 'ADD {}'.format(tail_s2)),  \n",
    "        # string 1 add tail of string2\n",
    "    ]\n",
    "    \n",
    "    if tail_s1 == tail_s2:\n",
    "        both_forward = (edit_distance(string1[:-1], string2[:-1]) + 0, '')\n",
    "    else:\n",
    "        both_forward = (edit_distance(string1[:-1], string2[:-1]) + 1, 'SUB {} => {}'.format(tail_s1, tail_s2))\n",
    "\n",
    "    candidates.append(both_forward)\n",
    "    \n",
    "    min_distance, operation = min(candidates, key=lambda x: x[0])\n",
    "    \n",
    "    solution[(string1, string2)] = operation \n",
    "    #print('({},{}),{}'.format(string1, string2, candidates))\n",
    "    return min_distance"
   ]
  },
  {
   "cell_type": "code",
   "execution_count": 39,
   "metadata": {},
   "outputs": [
    {
     "data": {
      "text/plain": [
       "3"
      ]
     },
     "execution_count": 39,
     "metadata": {},
     "output_type": "execute_result"
    }
   ],
   "source": [
    "edit_distance('ABCDECG','ABCCEF')"
   ]
  },
  {
   "cell_type": "code",
   "execution_count": 40,
   "metadata": {},
   "outputs": [
    {
     "data": {
      "text/plain": [
       "{('A', 'A'): '',\n",
       " ('A', 'AB'): 'ADD B',\n",
       " ('A', 'ABC'): 'ADD C',\n",
       " ('A', 'ABCC'): 'ADD C',\n",
       " ('A', 'ABCCE'): 'ADD E',\n",
       " ('A', 'ABCCEF'): 'ADD F',\n",
       " ('AB', 'A'): 'DEL B',\n",
       " ('AB', 'AB'): '',\n",
       " ('AB', 'ABC'): 'ADD C',\n",
       " ('AB', 'ABCC'): 'ADD C',\n",
       " ('AB', 'ABCCE'): 'ADD E',\n",
       " ('AB', 'ABCCEF'): 'ADD F',\n",
       " ('ABC', 'A'): 'DEL C',\n",
       " ('ABC', 'AB'): 'DEL C',\n",
       " ('ABC', 'ABC'): '',\n",
       " ('ABC', 'ABCC'): 'ADD C',\n",
       " ('ABC', 'ABCCE'): 'ADD E',\n",
       " ('ABC', 'ABCCEF'): 'ADD F',\n",
       " ('ABCD', 'A'): 'DEL D',\n",
       " ('ABCD', 'AB'): 'DEL D',\n",
       " ('ABCD', 'ABC'): 'DEL D',\n",
       " ('ABCD', 'ABCC'): 'SUB D => C',\n",
       " ('ABCD', 'ABCCE'): 'ADD E',\n",
       " ('ABCD', 'ABCCEF'): 'ADD F',\n",
       " ('ABCDE', 'A'): 'DEL E',\n",
       " ('ABCDE', 'AB'): 'DEL E',\n",
       " ('ABCDE', 'ABC'): 'DEL E',\n",
       " ('ABCDE', 'ABCC'): 'DEL E',\n",
       " ('ABCDE', 'ABCCE'): '',\n",
       " ('ABCDE', 'ABCCEF'): 'ADD F',\n",
       " ('ABCDEC', 'A'): 'DEL C',\n",
       " ('ABCDEC', 'AB'): 'DEL C',\n",
       " ('ABCDEC', 'ABC'): 'DEL C',\n",
       " ('ABCDEC', 'ABCC'): '',\n",
       " ('ABCDEC', 'ABCCE'): 'DEL C',\n",
       " ('ABCDEC', 'ABCCEF'): 'SUB C => F',\n",
       " ('ABCDECG', 'A'): 'DEL G',\n",
       " ('ABCDECG', 'AB'): 'DEL G',\n",
       " ('ABCDECG', 'ABC'): 'DEL G',\n",
       " ('ABCDECG', 'ABCC'): 'DEL G',\n",
       " ('ABCDECG', 'ABCCE'): 'DEL G',\n",
       " ('ABCDECG', 'ABCCEF'): 'DEL G'}"
      ]
     },
     "execution_count": 40,
     "metadata": {},
     "output_type": "execute_result"
    }
   ],
   "source": [
    "solution"
   ]
  },
  {
   "cell_type": "markdown",
   "metadata": {},
   "source": [
    "## Todo: Parse Solution is our homework"
   ]
  },
  {
   "cell_type": "code",
   "execution_count": 41,
   "metadata": {},
   "outputs": [],
   "source": [
    "import string\n",
    "parse = []\n",
    "def parse_solution(string1, string2):\n",
    "    if string1 == string2:\n",
    "        return parse\n",
    "    if 'ADD' in solution[(string1, string2)]:\n",
    "        parse.append(solution[(string1, string2)])\n",
    "        parse_solution(string1, string2[:-1])\n",
    "    elif 'DEL' in solution[(string1, string2)]:\n",
    "        parse.append(solution[(string1, string2)])\n",
    "        parse_solution(string1[:-1], string2)\n",
    "    else:\n",
    "        parse.append(solution[(string1, string2)])\n",
    "        parse_solution(string1[:-1], string2[:-1])"
   ]
  },
  {
   "cell_type": "code",
   "execution_count": 42,
   "metadata": {},
   "outputs": [],
   "source": [
    "parse_solution('ABCDECG','ABCCEF')"
   ]
  },
  {
   "cell_type": "code",
   "execution_count": 43,
   "metadata": {},
   "outputs": [
    {
     "data": {
      "text/plain": [
       "['DEL G', 'SUB C => F', '', 'SUB D => C']"
      ]
     },
     "execution_count": 43,
     "metadata": {},
     "output_type": "execute_result"
    }
   ],
   "source": [
    "parse"
   ]
  },
  {
   "cell_type": "markdown",
   "metadata": {},
   "source": [
    "# Problem Case 3: Pinyin Auto Correction Problem"
   ]
  },
  {
   "cell_type": "code",
   "execution_count": 3,
   "metadata": {},
   "outputs": [],
   "source": [
    "chinese_dataset = 'article_9k.txt'"
   ]
  },
  {
   "cell_type": "code",
   "execution_count": 4,
   "metadata": {},
   "outputs": [],
   "source": [
    "CHINESE_CHARATERS = open(chinese_dataset).read()"
   ]
  },
  {
   "cell_type": "code",
   "execution_count": 5,
   "metadata": {},
   "outputs": [
    {
     "data": {
      "text/plain": [
       "'此外自本周6月12日起除小米手机6等15款机型外其余机型已暂停更新发布含开发版体'"
      ]
     },
     "execution_count": 5,
     "metadata": {},
     "output_type": "execute_result"
    }
   ],
   "source": [
    "CHINESE_CHARATERS[:40]"
   ]
  },
  {
   "cell_type": "code",
   "execution_count": 6,
   "metadata": {},
   "outputs": [
    {
     "name": "stdout",
     "output_type": "stream",
     "text": [
      "Looking in indexes: https://pypi.tuna.tsinghua.edu.cn/simple\n",
      "Requirement already satisfied: pinyin in c:\\users\\aceryoung\\anaconda3\\lib\\site-packages (0.4.0)\n"
     ]
    }
   ],
   "source": [
    "!pip install pinyin"
   ]
  },
  {
   "cell_type": "code",
   "execution_count": 7,
   "metadata": {},
   "outputs": [],
   "source": [
    "import pinyin"
   ]
  },
  {
   "cell_type": "code",
   "execution_count": 8,
   "metadata": {},
   "outputs": [
    {
     "data": {
      "text/plain": [
       "'ni hao ， zhong guo'"
      ]
     },
     "execution_count": 8,
     "metadata": {},
     "output_type": "execute_result"
    }
   ],
   "source": [
    "pinyin.get('你好，中国',format='strip',delimiter=' ')"
   ]
  },
  {
   "cell_type": "code",
   "execution_count": 9,
   "metadata": {},
   "outputs": [],
   "source": [
    "def chinese_to_pinyin(character):\n",
    "    return pinyin.get(character, format='strip', delimiter=' ')"
   ]
  },
  {
   "cell_type": "code",
   "execution_count": 10,
   "metadata": {},
   "outputs": [],
   "source": [
    "CHINESE_CHARATERS_COPYS = chinese_to_pinyin(CHINESE_CHARATERS)"
   ]
  },
  {
   "cell_type": "code",
   "execution_count": 11,
   "metadata": {},
   "outputs": [
    {
     "data": {
      "text/plain": [
       "129433034"
      ]
     },
     "execution_count": 11,
     "metadata": {},
     "output_type": "execute_result"
    }
   ],
   "source": [
    "len(CHINESE_CHARATERS_COPYS)"
   ]
  },
  {
   "cell_type": "code",
   "execution_count": 12,
   "metadata": {},
   "outputs": [],
   "source": [
    "import re"
   ]
  },
  {
   "cell_type": "code",
   "execution_count": 13,
   "metadata": {},
   "outputs": [],
   "source": [
    "def tokens(text):\n",
    "    \"List all the pinyin characters\"\n",
    "    return re.findall('[a-z]+',text.lower())"
   ]
  },
  {
   "cell_type": "code",
   "execution_count": 14,
   "metadata": {},
   "outputs": [
    {
     "data": {
      "text/plain": [
       "'ci wai zi ben zhou 6 yue 1 2 ri qi chu xiao mi shou ji 6 deng 1 5 kuan ji xing wai qi yu ji xing yi '"
      ]
     },
     "execution_count": 14,
     "metadata": {},
     "output_type": "execute_result"
    }
   ],
   "source": [
    "CHINESE_CHARATERS_COPYS[:100]"
   ]
  },
  {
   "cell_type": "code",
   "execution_count": 15,
   "metadata": {},
   "outputs": [
    {
     "data": {
      "text/plain": [
       "['ci',\n",
       " 'wai',\n",
       " 'zi',\n",
       " 'ben',\n",
       " 'zhou',\n",
       " 'yue',\n",
       " 'ri',\n",
       " 'qi',\n",
       " 'chu',\n",
       " 'xiao',\n",
       " 'mi',\n",
       " 'shou',\n",
       " 'ji',\n",
       " 'deng',\n",
       " 'kuan',\n",
       " 'ji',\n",
       " 'xing',\n",
       " 'wai',\n",
       " 'qi',\n",
       " 'yu',\n",
       " 'ji',\n",
       " 'xing',\n",
       " 'yi']"
      ]
     },
     "execution_count": 15,
     "metadata": {},
     "output_type": "execute_result"
    }
   ],
   "source": [
    "tokens(CHINESE_CHARATERS_COPYS[:100])"
   ]
  },
  {
   "cell_type": "code",
   "execution_count": 16,
   "metadata": {},
   "outputs": [],
   "source": [
    "from collections import Counter, defaultdict"
   ]
  },
  {
   "cell_type": "code",
   "execution_count": 17,
   "metadata": {},
   "outputs": [],
   "source": [
    "PINYIN_COUNT = Counter(tokens(CHINESE_CHARATERS_COPYS))"
   ]
  },
  {
   "cell_type": "code",
   "execution_count": 18,
   "metadata": {},
   "outputs": [],
   "source": [
    "def correct(word):\n",
    "    'Find the most possible pinyin based on edit distance'\n",
    "    # Prefer edit distance 0, then 1, then 2; otherwist default to word itself\n",
    "    candidates = (known(edits0(word)) or\n",
    "                  known(edits1(word)) or\n",
    "                  known(edits2(word)) or\n",
    "                  [word])\n",
    "    return max(candidates,key=PINYIN_COUNT.get)"
   ]
  },
  {
   "cell_type": "code",
   "execution_count": 19,
   "metadata": {},
   "outputs": [],
   "source": [
    "def known(words):\n",
    "    'Return the pinyin in our data'\n",
    "    return {w for w in words if w in PINYIN_COUNT}\n",
    "\n",
    "def edits0(word):\n",
    "    'Return all strings that are zero edits away from word (i.e., just word itself).'\n",
    "    return {word}\n",
    "\n",
    "def edits2(word):\n",
    "    'Return all strings that are two edits away from this pinyin.'\n",
    "    return {e2 for e1 in edits1(word) for e2 in edits1(e1)}"
   ]
  },
  {
   "cell_type": "code",
   "execution_count": 20,
   "metadata": {},
   "outputs": [],
   "source": [
    "alphabet = 'abcdefghijklmnopqrstuvwxyz'\n",
    "\n",
    "def splits(word):\n",
    "    'Return a list of all possible (first, rest) pairs that comprise pinyin.'\n",
    "    return [(word[:i], word[i:])\n",
    "           for i in range(len(word)+1)]\n",
    "\n",
    "def edits1(word):\n",
    "    'Return all strings that are one edit away from this pinyin.'\n",
    "    pairs = splits(word)\n",
    "    deletes = [a+b[1:] for (a,b) in pairs if b]\n",
    "    transposes = [a+b[1]+b[0]+b[2:] for (a,b) in pairs if len(b) > 1]\n",
    "    replaces = [a+c+b[1:] for (a,b) in pairs for c in alphabet if b]\n",
    "    inserts = [a+c+b for (a,b) in pairs for c in alphabet]\n",
    "    return set(deletes + transposes + replaces + inserts)"
   ]
  },
  {
   "cell_type": "code",
   "execution_count": 21,
   "metadata": {},
   "outputs": [
    {
     "data": {
      "text/plain": [
       "[('', 'pinyin'),\n",
       " ('p', 'inyin'),\n",
       " ('pi', 'nyin'),\n",
       " ('pin', 'yin'),\n",
       " ('piny', 'in'),\n",
       " ('pinyi', 'n'),\n",
       " ('pinyin', '')]"
      ]
     },
     "execution_count": 21,
     "metadata": {},
     "output_type": "execute_result"
    }
   ],
   "source": [
    "splits('pinyin')"
   ]
  },
  {
   "cell_type": "code",
   "execution_count": 22,
   "metadata": {},
   "outputs": [
    {
     "name": "stdout",
     "output_type": "stream",
     "text": [
      "{'pinyin'}\n"
     ]
    }
   ],
   "source": [
    "print(edits0('pinyin'))"
   ]
  },
  {
   "cell_type": "code",
   "execution_count": 23,
   "metadata": {},
   "outputs": [
    {
     "name": "stdout",
     "output_type": "stream",
     "text": [
      "{'pinysn', 'pinnyin', 'tpinyin', 'pniyin', 'pinyimn', 'pinzyin', 'pminyin', 'pinwin', 'cinyin', 'pindin', 'pinein', 'pianyin', 'pjinyin', 'pinyinj', 'painyin', 'pwinyin', 'pinrin', 'pinyion', 'fpinyin', 'ptnyin', 'piqyin', 'psnyin', 'piunyin', 'pinyibn', 'pinyiyn', 'pinhin', 'pinsin', 'pbinyin', 'dinyin', 'pinyib', 'qpinyin', 'pinyoin', 'pvinyin', 'pinxin', 'pinyif', 'pifnyin', 'pinygn', 'pingyin', 'piniyin', 'piyin', 'pinytin', 'opinyin', 'binyin', 'pinynin', 'pinnin', 'pinyln', 'pinyiwn', 'pinkyin', 'pincin', 'pinyyn', 'penyin', 'piynyin', 'pinycin', 'poinyin', 'inyin', 'punyin', 'pginyin', 'qinyin', 'pivnyin', 'pinyinc', 'linyin', 'pinyink', 'pinyins', 'pxinyin', 'pinyint', 'pinfin', 'pinyjin', 'pixnyin', 'pinyiz', 'piniyn', 'pinyiny', 'pinyinv', 'pinhyin', 'pixyin', 'pinyijn', 'pibnyin', 'pjnyin', 'pinyifn', 'pinlin', 'pihyin', 'pnnyin', 'pinyit', 'pinyni', 'pinyir', 'pgnyin', 'jinyin', 'pinyix', 'pinyip', 'pzinyin', 'kpinyin', 'pinyjn', 'lpinyin', 'pinvyin', 'pinykn', 'pinybin', 'pimnyin', 'pinyil', 'pirnyin', 'pinlyin', 'pinylin', 'pinyiv', 'pinymn', 'piuyin', 'pinyinu', 'pinyqn', 'pinyihn', 'pinyxn', 'ppinyin', 'pinoyin', 'pnyin', 'finyin', 'pinyinq', 'pintin', 'pinyon', 'cpinyin', 'pinyiqn', 'picyin', 'pinyrin', 'npinyin', 'bpinyin', 'pqinyin', 'pinyin', 'pipnyin', 'pinyuin', 'pninyin', 'pinying', 'pinyign', 'pinyidn', 'wpinyin', 'pinyain', 'pinqyin', 'xinyin', 'pinytn', 'pinuyin', 'pinywin', 'sinyin', 'ypinyin', 'pinyiln', 'pinywn', 'pyinyin', 'ainyin', 'pinysin', 'pinyian', 'pinyinh', 'pinyio', 'hpinyin', 'pdinyin', 'iinyin', 'pinbin', 'pinybn', 'pihnyin', 'ipnyin', 'pisyin', 'pinyiy', 'pieyin', 'pizyin', 'pidyin', 'pinyinx', 'pinyiun', 'pidnyin', 'prinyin', 'pincyin', 'pbnyin', 'pivyin', 'pifyin', 'pinpyin', 'pfinyin', 'pvnyin', 'pinyini', 'pinyivn', 'pinoin', 'pinyii', 'pinyn', 'ptinyin', 'pqnyin', 'oinyin', 'pinyis', 'pinyicn', 'pinyirn', 'pinyiw', 'pinyisn', 'pineyin', 'pinyfn', 'pinyzin', 'piqnyin', 'pinyyin', 'pinpin', 'vinyin', 'gpinyin', 'pinypin', 'pinydin', 'pinyfin', 'piwyin', 'uinyin', 'piryin', 'peinyin', 'pinyixn', 'pimyin', 'pinyik', 'pinuin', 'pinkin', 'pinypn', 'ipinyin', 'pinyizn', 'picnyin', 'zinyin', 'pinyinr', 'pinymin', 'ninyin', 'pinyind', 'pknyin', 'pintyin', 'pinyig', 'pitnyin', 'pinyqin', 'pikyin', 'pinxyin', 'psinyin', 'pinyinz', 'minyin', 'pinycn', 'piynin', 'pionyin', 'pioyin', 'piniin', 'pinyia', 'pinyic', 'pinqin', 'pilyin', 'pijnyin', 'piknyin', 'pinsyin', 'pinyxin', 'pinynn', 'pinvin', 'pinain', 'pinyinm', 'pinyipn', 'pinyinf', 'pinyun', 'prnyin', 'pinyiin', 'pxnyin', 'pynyin', 'pinzin', 'pisnyin', 'piiyin', 'pinyvn', 'pinyinn', 'pingin', 'piyyin', 'ponyin', 'pindyin', 'pipyin', 'einyin', 'pinayin', 'pinyhin', 'pinyinl', 'pmnyin', 'pinykin', 'piznyin', 'pigyin', 'pinydn', 'kinyin', 'rpinyin', 'pcnyin', 'jpinyin', 'ppnyin', 'upinyin', 'pznyin', 'pinygin', 'tinyin', 'pinmyin', 'pwnyin', 'apinyin', 'piwnyin', 'pignyin', 'pinyino', 'mpinyin', 'hinyin', 'pijyin', 'pinyij', 'pinyine', 'zpinyin', 'pcinyin', 'phinyin', 'pinyan', 'dpinyin', 'pinyen', 'puinyin', 'pinyvin', 'plnyin', 'pinyiq', 'pinryin', 'pibyin', 'pinyhn', 'pinjin', 'pinwyin', 'pfnyin', 'pinyzn', 'pkinyin', 'pinyih', 'pinyitn', 'pienyin', 'pinyikn', 'spinyin', 'piayin', 'pinyein', 'pinyie', 'pinyien', 'pinyi', 'yinyin', 'pinyiu', 'plinyin', 'pinyinp', 'pinmin', 'xpinyin', 'pinin', 'winyin', 'pilnyin', 'pinbyin', 'pinyrn', 'pinyina', 'pinyinb', 'pinjyin', 'pityin', 'epinyin', 'rinyin', 'pinfyin', 'pdnyin', 'phnyin', 'ginyin', 'vpinyin', 'pinyid', 'pinyinw', 'panyin', 'pinyim', 'piinyin'}\n"
     ]
    }
   ],
   "source": [
    "print(edits1('pinyin'))"
   ]
  },
  {
   "cell_type": "markdown",
   "metadata": {},
   "source": [
    "# Test"
   ]
  },
  {
   "cell_type": "code",
   "execution_count": 24,
   "metadata": {},
   "outputs": [
    {
     "data": {
      "text/plain": [
       "'yin'"
      ]
     },
     "execution_count": 24,
     "metadata": {},
     "output_type": "execute_result"
    }
   ],
   "source": [
    "correct('yin')"
   ]
  },
  {
   "cell_type": "code",
   "execution_count": 25,
   "metadata": {},
   "outputs": [
    {
     "data": {
      "text/plain": [
       "'ying'"
      ]
     },
     "execution_count": 25,
     "metadata": {},
     "output_type": "execute_result"
    }
   ],
   "source": [
    "correct('yign')"
   ]
  },
  {
   "cell_type": "code",
   "execution_count": 26,
   "metadata": {},
   "outputs": [
    {
     "data": {
      "text/plain": [
       "'ying'"
      ]
     },
     "execution_count": 26,
     "metadata": {},
     "output_type": "execute_result"
    }
   ],
   "source": [
    "correct('yinn')"
   ]
  },
  {
   "cell_type": "code",
   "execution_count": 27,
   "metadata": {},
   "outputs": [],
   "source": [
    "def correct_sequence_pinyin(text_pinyin):\n",
    "    return ' '.join(map(correct, text_pinyin.split()))"
   ]
  },
  {
   "cell_type": "code",
   "execution_count": 28,
   "metadata": {},
   "outputs": [
    {
     "data": {
      "text/plain": [
       "'zhe shi yi ge ce shi'"
      ]
     },
     "execution_count": 28,
     "metadata": {},
     "output_type": "execute_result"
    }
   ],
   "source": [
    "correct_sequence_pinyin('zhe sih yi ge ce sho')"
   ]
  },
  {
   "cell_type": "code",
   "execution_count": 29,
   "metadata": {},
   "outputs": [
    {
     "data": {
      "text/plain": [
       "'wo xiang shang qing hua da xue'"
      ]
     },
     "execution_count": 29,
     "metadata": {},
     "output_type": "execute_result"
    }
   ],
   "source": [
    "correct_sequence_pinyin('wo xiang shagn qinng hua da xue')"
   ]
  },
  {
   "cell_type": "markdown",
   "metadata": {},
   "source": [
    "# 思考题-homework？    \n",
    "#### 如何在不带空格的时候完成自动修整？--> 如何完成拼音的自动分割？   \n",
    "###### 提示：使用第一节课提到的语言模型!"
   ]
  },
  {
   "cell_type": "markdown",
   "metadata": {},
   "source": [
    "woyaoshangqinghua\n",
    "w yaoshangqinghua\n",
    "wo yaoshangqinghua\n",
    "woyao shangqinghua\n",
    "\n",
    "-> DP"
   ]
  },
  {
   "cell_type": "code",
   "execution_count": 30,
   "metadata": {},
   "outputs": [
    {
     "data": {
      "text/plain": [
       "dict_keys(['ci', 'wai', 'zi', 'ben', 'zhou', 'yue', 'ri', 'qi', 'chu', 'xiao', 'mi', 'shou', 'ji', 'deng', 'kuan', 'xing', 'yu', 'yi', 'zan', 'ting', 'geng', 'xin', 'fa', 'bu', 'han', 'kai', 'ban', 'ti', 'yan', 'nei', 'ce', 'wen', 'ding', 'ying', 'xiang', 'que', 'bao', 'gong', 'cheng', 'shi', 'ke', 'zhong', 'quan', 'jing', 'li', 'jin', 'xi', 'tong', 'you', 'hua', 'zuo', 'ren', 'cai', 'zhe', 'ye', 'jiang', 'zhu', 'yao', 'yong', 'dao', 'm', 'i', 'u', 'de', 'zhi', 'qu', 'nian', 'ju', 'hou', 'huan', 'dai', 'le', 'dang', 'ran', 'guan', 'qie', 'wo', 'men', 'fang', 'long', 'wei', 'guo', 'w', 'n', 'd', 'o', 's', 'zhuo', 'mian', 'ping', 'tai', 'zheng', 'a', 'r', 'gao', 'qiang', 'diao', 'hui', 'yin', 'kao', 'lv', 'neng', 'er', 'bi', 'he', 'fan', 'ta', 'lian', 'ruan', 'zhao', 'jian', 'gu', 'hao', 'wan', 'mei', 'an', 'na', 'xie', 'yuan', 'ma', 'bian', 'di', 'jie', 'b', 'g', 'l', 't', 'e', 'jia', 'gou', 'liao', 'xian', 'c', 'p', 'lan', 'ya', 'f', 'chuan', 'sheng', 'shao', 'kong', 'q', 'shuo', 'pu', 'dian', 'nao', 'jun', 'chan', 'pin', 'ge', 'lai', 'xu', 'san', 'x', 'y', 'lin', 'peng', 'pai', 'ru', 'qian', 'da', 'zai', 'h', 'chi', 'kuai', 'chong', 'gui', 'v', 'suo', 'shui', 'liu', 'hu', 'zui', 'qing', 'bo', 'she', 'mu', 'zhang', 'cun', 'shuang', 'tou', 'bei', 'huo', 'liang', 'gen', 'dong', 'lu', 'gai', 'mou', 'tao', 'pei', 'luo', 'gang', 'sen', 'che', 'yun', 'biao', 'sui', 'nv', 'pao', 'shen', 'zhen', 'wang', 'zou', 'jiao', 'chen', 'shang', 'nan', 'su', 'fu', 'gan', 'pi', 'huang', 'bing', 'du', 'ni', 'nin', 'chang', 'dui', 'tian', 'shuai', 'lve', 'zao', 'fen', 'qin', 'tie', 'xun', 'duo', 'kou', 'si', 'gua', 'tang', 'ling', 'ming', 'zhui', 'hen', 'man', 'min', 'qun', 'cong', 'xue', 'bai', 'se', 'ku', 'feng', 'zu', 'dan', 'xia', 'kan', 'yang', 'kuang', 'pa', 'bie', 'niu', 'jue', 'ga', 'rang', 'tu', 'tiao', 'mang', 'la', 'ai', 'ba', 'reng', 'nai', 'duan', 'tuo', 'jiu', 'shun', 'bang', 'mao', 'pian', 'pang', 'niang', 'shu', 'lao', 'cuo', 'song', 'kang', 'shan', 'nuan', 'z', 'piao', 'lang', 'sa', 'mo', 'dun', 'cha', 'j', 'hai', 'wu', 'huai', 'guai', 'rong', 'pan', 'hong', 'zhuang', 'xiu', 'fei', 'chao', 'die', 'xuan', 'zhan', 'tuan', 'zeng', 'guang', 're', 'teng', 'nuo', 'qiao', 'po', 'tui', 'zen', 'k', 'qiu', 'chuai', 'sha', 'xiong', 'chou', 'hei', 'lei', 'hang', 'zong', 'zhai', 'zhun', 'lou', 'cao', 'suan', 'zhuan', 'chuang', 'ruo', 'ze', 'cui', 'luan', 'lun', 'mai', 'beng', 'cu', 'fou', 'ao', 'tan', 'shua', 'heng', 'gei', 'chun', 'run', 'cang', 'zhua', 'kua', 'hun', 'ou', 'bin', 'ceng', 'zha', 'ne', 'qia', 'te', 'sun', 'sao', 'rao', 'keng', 'meng', 'ka', 'ca', 'nong', 'chai', 'kuo', 'ning', 'chui', 'en', 'can', 'lie', 'leng', 'miao', 'nu', 'za', 'dou', 'zun', 'sai', 'kun', 'sang', 'sou', 'ha', 'rui', 'wa', 'shai', 'gun', 'fo', 'diu', 'juan', 'nie', 'cou', 'ken', 'kui', 'niao', 'rou', 'miu', 'qiong', 'weng', 'mie', 'nang', 'pen', 'zuan', 'zang', 'ang', 'lia', 'zei', 'jiong', 'nve', 'cuan', 'tun', 'yo', 'chuo', 'pie', 'pou', 'shuan', 'nen', 'seng', 'cen', 'dia'])"
      ]
     },
     "execution_count": 30,
     "metadata": {},
     "output_type": "execute_result"
    }
   ],
   "source": [
    "PINYIN_COUNT.keys()"
   ]
  },
  {
   "cell_type": "markdown",
   "metadata": {},
   "source": [
    "woyaoshangqinghua\n",
    "w yaoshangqinghua\n",
    "wo yaoshangqinghua\n",
    "woyao shangqinghua"
   ]
  },
  {
   "cell_type": "code",
   "execution_count": 31,
   "metadata": {},
   "outputs": [],
   "source": [
    "length = len(tokens(CHINESE_CHARATERS_COPYS))"
   ]
  },
  {
   "cell_type": "code",
   "execution_count": 32,
   "metadata": {},
   "outputs": [],
   "source": [
    "def pro(w1, w2):\n",
    "    if w1 + w2 in PINYIN_COUNT.keys(): return PINYIN_COUNT[w1+w2]/(PINYIN_COUNT[w1+w2] + PINYIN_COUNT[w1])\n",
    "    else: return 1/length"
   ]
  },
  {
   "cell_type": "code",
   "execution_count": 33,
   "metadata": {},
   "outputs": [
    {
     "data": {
      "text/plain": [
       "0.9966113531573142"
      ]
     },
     "execution_count": 33,
     "metadata": {},
     "output_type": "execute_result"
    }
   ],
   "source": [
    "pro('q', 'i')"
   ]
  },
  {
   "cell_type": "code",
   "execution_count": 34,
   "metadata": {},
   "outputs": [
    {
     "data": {
      "text/plain": [
       "3.197567086316437e-08"
      ]
     },
     "execution_count": 34,
     "metadata": {},
     "output_type": "execute_result"
    }
   ],
   "source": [
    "pro('w','oyaoshangqinghua')"
   ]
  },
  {
   "cell_type": "code",
   "execution_count": 35,
   "metadata": {},
   "outputs": [
    {
     "data": {
      "text/plain": [
       "3.197567086316437e-08"
      ]
     },
     "execution_count": 35,
     "metadata": {},
     "output_type": "execute_result"
    }
   ],
   "source": [
    "pro('wo','yaoshangqinghua')"
   ]
  },
  {
   "cell_type": "code",
   "execution_count": 36,
   "metadata": {},
   "outputs": [
    {
     "data": {
      "text/plain": [
       "3.197567086316437e-08"
      ]
     },
     "execution_count": 36,
     "metadata": {},
     "output_type": "execute_result"
    }
   ],
   "source": [
    "pro('y','aoshangqinghua')"
   ]
  },
  {
   "cell_type": "code",
   "execution_count": 37,
   "metadata": {},
   "outputs": [
    {
     "data": {
      "text/plain": [
       "0.9698762775685853"
      ]
     },
     "execution_count": 37,
     "metadata": {},
     "output_type": "execute_result"
    }
   ],
   "source": [
    "pro('y','a')"
   ]
  },
  {
   "cell_type": "code",
   "execution_count": 38,
   "metadata": {},
   "outputs": [
    {
     "data": {
      "text/plain": [
       "3.197567086316437e-08"
      ]
     },
     "execution_count": 38,
     "metadata": {},
     "output_type": "execute_result"
    }
   ],
   "source": [
    "pro('o','s')"
   ]
  },
  {
   "cell_type": "code",
   "execution_count": 39,
   "metadata": {},
   "outputs": [
    {
     "data": {
      "text/plain": [
       "0.9698762775685853"
      ]
     },
     "execution_count": 39,
     "metadata": {},
     "output_type": "execute_result"
    }
   ],
   "source": [
    "pro('y', 'a')"
   ]
  },
  {
   "cell_type": "code",
   "execution_count": 40,
   "metadata": {},
   "outputs": [
    {
     "data": {
      "text/plain": [
       "0.97923762060373"
      ]
     },
     "execution_count": 40,
     "metadata": {},
     "output_type": "execute_result"
    }
   ],
   "source": [
    "pro('y','ao')"
   ]
  },
  {
   "cell_type": "code",
   "execution_count": 41,
   "metadata": {},
   "outputs": [],
   "source": [
    "def split(string: str):\n",
    "    length = len(string)\n",
    "    matrix = [[0 for _ in range(length)] for _ in range(length)]\n",
    "    index = -1\n",
    "    new_string = ''\n",
    "    for row in range(length):\n",
    "        row = index + 1\n",
    "        if row < length:\n",
    "            for col in range(length):\n",
    "                if row < col:\n",
    "                    matrix[row][col] = pro(string[row], string[row+1:col+1])\n",
    "            index = matrix[row].index(max(matrix[row]))\n",
    "            new_string += string[row:index+1] + ' '\n",
    "    return new_string"
   ]
  },
  {
   "cell_type": "code",
   "execution_count": 42,
   "metadata": {},
   "outputs": [
    {
     "data": {
      "text/plain": [
       "'wo yao shang qi ng hua '"
      ]
     },
     "execution_count": 42,
     "metadata": {},
     "output_type": "execute_result"
    }
   ],
   "source": [
    "split('woyaoshangqinghua')"
   ]
  },
  {
   "cell_type": "markdown",
   "metadata": {},
   "source": [
    "贪心算法失败。接下来使用DP算法"
   ]
  },
  {
   "cell_type": "code",
   "execution_count": 72,
   "metadata": {},
   "outputs": [],
   "source": [
    "def gen_matrix(string: str):\n",
    "    length = len(string)\n",
    "    matrix = [[0 for _ in range(length)] for _ in range(length)]\n",
    "    for row in range(length):\n",
    "        for col in range(length):\n",
    "            if row < col:\n",
    "                 matrix[row][col] = pro(string[row], string[row+1:col+1])\n",
    "    return matrix"
   ]
  },
  {
   "cell_type": "code",
   "execution_count": 73,
   "metadata": {},
   "outputs": [],
   "source": [
    "matrix = gen_matrix('woyaoshangqinghua')"
   ]
  },
  {
   "cell_type": "code",
   "execution_count": 74,
   "metadata": {},
   "outputs": [
    {
     "data": {
      "text/plain": [
       "[[0,\n",
       "  0.9501564956724906,\n",
       "  3.197567086316437e-08,\n",
       "  3.197567086316437e-08,\n",
       "  3.197567086316437e-08,\n",
       "  3.197567086316437e-08,\n",
       "  3.197567086316437e-08,\n",
       "  3.197567086316437e-08,\n",
       "  3.197567086316437e-08,\n",
       "  3.197567086316437e-08,\n",
       "  3.197567086316437e-08,\n",
       "  3.197567086316437e-08,\n",
       "  3.197567086316437e-08,\n",
       "  3.197567086316437e-08,\n",
       "  3.197567086316437e-08,\n",
       "  3.197567086316437e-08,\n",
       "  3.197567086316437e-08],\n",
       " [0,\n",
       "  0,\n",
       "  3.197567086316437e-08,\n",
       "  3.197567086316437e-08,\n",
       "  3.197567086316437e-08,\n",
       "  3.197567086316437e-08,\n",
       "  3.197567086316437e-08,\n",
       "  3.197567086316437e-08,\n",
       "  3.197567086316437e-08,\n",
       "  3.197567086316437e-08,\n",
       "  3.197567086316437e-08,\n",
       "  3.197567086316437e-08,\n",
       "  3.197567086316437e-08,\n",
       "  3.197567086316437e-08,\n",
       "  3.197567086316437e-08,\n",
       "  3.197567086316437e-08,\n",
       "  3.197567086316437e-08],\n",
       " [0,\n",
       "  0,\n",
       "  0,\n",
       "  0.9698762775685853,\n",
       "  0.97923762060373,\n",
       "  3.197567086316437e-08,\n",
       "  3.197567086316437e-08,\n",
       "  3.197567086316437e-08,\n",
       "  3.197567086316437e-08,\n",
       "  3.197567086316437e-08,\n",
       "  3.197567086316437e-08,\n",
       "  3.197567086316437e-08,\n",
       "  3.197567086316437e-08,\n",
       "  3.197567086316437e-08,\n",
       "  3.197567086316437e-08,\n",
       "  3.197567086316437e-08,\n",
       "  3.197567086316437e-08],\n",
       " [0,\n",
       "  0,\n",
       "  0,\n",
       "  0,\n",
       "  0.3223117532647958,\n",
       "  3.197567086316437e-08,\n",
       "  3.197567086316437e-08,\n",
       "  3.197567086316437e-08,\n",
       "  3.197567086316437e-08,\n",
       "  3.197567086316437e-08,\n",
       "  3.197567086316437e-08,\n",
       "  3.197567086316437e-08,\n",
       "  3.197567086316437e-08,\n",
       "  3.197567086316437e-08,\n",
       "  3.197567086316437e-08,\n",
       "  3.197567086316437e-08,\n",
       "  3.197567086316437e-08],\n",
       " [0,\n",
       "  0,\n",
       "  0,\n",
       "  0,\n",
       "  0,\n",
       "  3.197567086316437e-08,\n",
       "  3.197567086316437e-08,\n",
       "  3.197567086316437e-08,\n",
       "  3.197567086316437e-08,\n",
       "  3.197567086316437e-08,\n",
       "  3.197567086316437e-08,\n",
       "  3.197567086316437e-08,\n",
       "  3.197567086316437e-08,\n",
       "  3.197567086316437e-08,\n",
       "  3.197567086316437e-08,\n",
       "  3.197567086316437e-08,\n",
       "  3.197567086316437e-08],\n",
       " [0,\n",
       "  0,\n",
       "  0,\n",
       "  0,\n",
       "  0,\n",
       "  0,\n",
       "  3.197567086316437e-08,\n",
       "  0.651687357929708,\n",
       "  0.8193552287532306,\n",
       "  0.9373890085021451,\n",
       "  3.197567086316437e-08,\n",
       "  3.197567086316437e-08,\n",
       "  3.197567086316437e-08,\n",
       "  3.197567086316437e-08,\n",
       "  3.197567086316437e-08,\n",
       "  3.197567086316437e-08,\n",
       "  3.197567086316437e-08],\n",
       " [0,\n",
       "  0,\n",
       "  0,\n",
       "  0,\n",
       "  0,\n",
       "  0,\n",
       "  0,\n",
       "  0.601822050079101,\n",
       "  0.8451896156782897,\n",
       "  0.7679025693207835,\n",
       "  3.197567086316437e-08,\n",
       "  3.197567086316437e-08,\n",
       "  3.197567086316437e-08,\n",
       "  3.197567086316437e-08,\n",
       "  3.197567086316437e-08,\n",
       "  3.197567086316437e-08,\n",
       "  3.197567086316437e-08],\n",
       " [0,\n",
       "  0,\n",
       "  0,\n",
       "  0,\n",
       "  0,\n",
       "  0,\n",
       "  0,\n",
       "  0,\n",
       "  0.6169624384614859,\n",
       "  0.052191396614064134,\n",
       "  3.197567086316437e-08,\n",
       "  3.197567086316437e-08,\n",
       "  3.197567086316437e-08,\n",
       "  3.197567086316437e-08,\n",
       "  3.197567086316437e-08,\n",
       "  3.197567086316437e-08,\n",
       "  3.197567086316437e-08],\n",
       " [0,\n",
       "  0,\n",
       "  0,\n",
       "  0,\n",
       "  0,\n",
       "  0,\n",
       "  0,\n",
       "  0,\n",
       "  0,\n",
       "  3.197567086316437e-08,\n",
       "  3.197567086316437e-08,\n",
       "  3.197567086316437e-08,\n",
       "  3.197567086316437e-08,\n",
       "  3.197567086316437e-08,\n",
       "  3.197567086316437e-08,\n",
       "  3.197567086316437e-08,\n",
       "  3.197567086316437e-08],\n",
       " [0,\n",
       "  0,\n",
       "  0,\n",
       "  0,\n",
       "  0,\n",
       "  0,\n",
       "  0,\n",
       "  0,\n",
       "  0,\n",
       "  0,\n",
       "  3.197567086316437e-08,\n",
       "  3.197567086316437e-08,\n",
       "  3.197567086316437e-08,\n",
       "  3.197567086316437e-08,\n",
       "  3.197567086316437e-08,\n",
       "  3.197567086316437e-08,\n",
       "  3.197567086316437e-08],\n",
       " [0,\n",
       "  0,\n",
       "  0,\n",
       "  0,\n",
       "  0,\n",
       "  0,\n",
       "  0,\n",
       "  0,\n",
       "  0,\n",
       "  0,\n",
       "  0,\n",
       "  0.9966113531573142,\n",
       "  0.9547693448440231,\n",
       "  0.9911551168788126,\n",
       "  3.197567086316437e-08,\n",
       "  3.197567086316437e-08,\n",
       "  3.197567086316437e-08],\n",
       " [0,\n",
       "  0,\n",
       "  0,\n",
       "  0,\n",
       "  0,\n",
       "  0,\n",
       "  0,\n",
       "  0,\n",
       "  0,\n",
       "  0,\n",
       "  0,\n",
       "  0,\n",
       "  3.197567086316437e-08,\n",
       "  3.197567086316437e-08,\n",
       "  3.197567086316437e-08,\n",
       "  3.197567086316437e-08,\n",
       "  3.197567086316437e-08],\n",
       " [0,\n",
       "  0,\n",
       "  0,\n",
       "  0,\n",
       "  0,\n",
       "  0,\n",
       "  0,\n",
       "  0,\n",
       "  0,\n",
       "  0,\n",
       "  0,\n",
       "  0,\n",
       "  0,\n",
       "  3.197567086316437e-08,\n",
       "  3.197567086316437e-08,\n",
       "  3.197567086316437e-08,\n",
       "  3.197567086316437e-08],\n",
       " [0,\n",
       "  0,\n",
       "  0,\n",
       "  0,\n",
       "  0,\n",
       "  0,\n",
       "  0,\n",
       "  0,\n",
       "  0,\n",
       "  0,\n",
       "  0,\n",
       "  0,\n",
       "  0,\n",
       "  0,\n",
       "  3.197567086316437e-08,\n",
       "  3.197567086316437e-08,\n",
       "  3.197567086316437e-08],\n",
       " [0,\n",
       "  0,\n",
       "  0,\n",
       "  0,\n",
       "  0,\n",
       "  0,\n",
       "  0,\n",
       "  0,\n",
       "  0,\n",
       "  0,\n",
       "  0,\n",
       "  0,\n",
       "  0,\n",
       "  0,\n",
       "  0,\n",
       "  0.9235202280038141,\n",
       "  0.9766237509607993],\n",
       " [0, 0, 0, 0, 0, 0, 0, 0, 0, 0, 0, 0, 0, 0, 0, 0, 3.197567086316437e-08],\n",
       " [0, 0, 0, 0, 0, 0, 0, 0, 0, 0, 0, 0, 0, 0, 0, 0, 0]]"
      ]
     },
     "execution_count": 74,
     "metadata": {},
     "output_type": "execute_result"
    }
   ],
   "source": [
    "matrix"
   ]
  },
  {
   "cell_type": "code",
   "execution_count": 878,
   "metadata": {},
   "outputs": [
    {
     "data": {
      "text/plain": [
       "0.8442518048831049"
      ]
     },
     "execution_count": 878,
     "metadata": {},
     "output_type": "execute_result"
    }
   ],
   "source": [
    "matrix[0][1]*matrix[2][4]*matrix[5][9]*matrix[10][13]*matrix[14][16]"
   ]
  },
  {
   "cell_type": "code",
   "execution_count": 883,
   "metadata": {},
   "outputs": [
    {
     "data": {
      "text/plain": [
       "4.834561992617978"
      ]
     },
     "execution_count": 883,
     "metadata": {},
     "output_type": "execute_result"
    }
   ],
   "source": [
    "matrix[0][1]+matrix[2][4]+matrix[5][9]+matrix[10][13]+matrix[14][16]"
   ]
  },
  {
   "cell_type": "code",
   "execution_count": 77,
   "metadata": {},
   "outputs": [],
   "source": [
    "solution = {}\n",
    "def get(string:str):\n",
    "    matrix = gen_matrix(string)\n",
    "    value, left, right = max([(matrix[0][-1], string, 0)] + [(get(string[0:n]) * get(string[n:]), string[0:n], string[n:]) for n in range(1,len(matrix)) if string[0:n] and string[n:]], key = lambda x: x[0])\n",
    "    solution[string] = (left, right)\n",
    "    return value"
   ]
  },
  {
   "cell_type": "code",
   "execution_count": 78,
   "metadata": {},
   "outputs": [
    {
     "data": {
      "text/plain": [
       "0.844251804883105"
      ]
     },
     "execution_count": 78,
     "metadata": {},
     "output_type": "execute_result"
    }
   ],
   "source": [
    "get('woyaoshangqinghua')"
   ]
  },
  {
   "cell_type": "code",
   "execution_count": 79,
   "metadata": {},
   "outputs": [
    {
     "data": {
      "text/plain": [
       "{'w': ('w', 0),\n",
       " 'o': ('o', 0),\n",
       " 'y': ('y', 0),\n",
       " 'a': ('a', 0),\n",
       " 's': ('s', 0),\n",
       " 'h': ('h', 0),\n",
       " 'n': ('n', 0),\n",
       " 'g': ('g', 0),\n",
       " 'q': ('q', 0),\n",
       " 'i': ('i', 0),\n",
       " 'u': ('u', 0),\n",
       " 'ua': ('ua', 0),\n",
       " 'hu': ('hu', 0),\n",
       " 'hua': ('hua', 0),\n",
       " 'gh': ('gh', 0),\n",
       " 'ghu': ('ghu', 0),\n",
       " 'ghua': ('ghua', 0),\n",
       " 'ng': ('ng', 0),\n",
       " 'ngh': ('ngh', 0),\n",
       " 'nghu': ('nghu', 0),\n",
       " 'nghua': ('nghua', 0),\n",
       " 'in': ('in', 0),\n",
       " 'ing': ('ing', 0),\n",
       " 'ingh': ('ingh', 0),\n",
       " 'inghu': ('inghu', 0),\n",
       " 'inghua': ('inghua', 0),\n",
       " 'qi': ('qi', 0),\n",
       " 'qin': ('qin', 0),\n",
       " 'qing': ('qing', 0),\n",
       " 'qingh': ('qingh', 0),\n",
       " 'qinghu': ('qing', 'hu'),\n",
       " 'qinghua': ('qing', 'hua'),\n",
       " 'gq': ('gq', 0),\n",
       " 'gqi': ('gqi', 0),\n",
       " 'gqin': ('gqin', 0),\n",
       " 'gqing': ('gqing', 0),\n",
       " 'gqingh': ('gqingh', 0),\n",
       " 'gqinghu': ('gqinghu', 0),\n",
       " 'gqinghua': ('gqinghua', 0),\n",
       " 'ngq': ('ngq', 0),\n",
       " 'ngqi': ('ngqi', 0),\n",
       " 'ngqin': ('ngqin', 0),\n",
       " 'ngqing': ('ngqing', 0),\n",
       " 'ngqingh': ('ngqingh', 0),\n",
       " 'ngqinghu': ('ngqinghu', 0),\n",
       " 'ngqinghua': ('ngqinghua', 0),\n",
       " 'an': ('an', 0),\n",
       " 'ang': ('ang', 0),\n",
       " 'angq': ('angq', 0),\n",
       " 'angqi': ('ang', 'qi'),\n",
       " 'angqin': ('ang', 'qin'),\n",
       " 'angqing': ('ang', 'qing'),\n",
       " 'angqingh': ('angqingh', 0),\n",
       " 'angqinghu': ('angqing', 'hu'),\n",
       " 'angqinghua': ('ang', 'qinghua'),\n",
       " 'ha': ('ha', 0),\n",
       " 'han': ('han', 0),\n",
       " 'hang': ('hang', 0),\n",
       " 'hangq': ('hangq', 0),\n",
       " 'hangqi': ('hang', 'qi'),\n",
       " 'hangqin': ('hang', 'qin'),\n",
       " 'hangqing': ('hang', 'qing'),\n",
       " 'hangqingh': ('hangqingh', 0),\n",
       " 'hangqinghu': ('hang', 'qinghu'),\n",
       " 'hangqinghua': ('hang', 'qinghua'),\n",
       " 'sh': ('sh', 0),\n",
       " 'sha': ('sha', 0),\n",
       " 'shan': ('shan', 0),\n",
       " 'shang': ('shang', 0),\n",
       " 'shangq': ('shangq', 0),\n",
       " 'shangqi': ('shang', 'qi'),\n",
       " 'shangqin': ('shang', 'qin'),\n",
       " 'shangqing': ('shang', 'qing'),\n",
       " 'shangqingh': ('shangqingh', 0),\n",
       " 'shangqinghu': ('shang', 'qinghu'),\n",
       " 'shangqinghua': ('shang', 'qinghua'),\n",
       " 'os': ('os', 0),\n",
       " 'osh': ('osh', 0),\n",
       " 'osha': ('osha', 0),\n",
       " 'oshan': ('oshan', 0),\n",
       " 'oshang': ('oshang', 0),\n",
       " 'oshangq': ('oshangq', 0),\n",
       " 'oshangqi': ('oshangqi', 0),\n",
       " 'oshangqin': ('oshangqin', 0),\n",
       " 'oshangqing': ('oshangqing', 0),\n",
       " 'oshangqingh': ('oshangqingh', 0),\n",
       " 'oshangqinghu': ('oshangqinghu', 0),\n",
       " 'oshangqinghua': ('oshangqinghua', 0),\n",
       " 'ao': ('ao', 0),\n",
       " 'aos': ('aos', 0),\n",
       " 'aosh': ('aosh', 0),\n",
       " 'aosha': ('ao', 'sha'),\n",
       " 'aoshan': ('ao', 'shan'),\n",
       " 'aoshang': ('ao', 'shang'),\n",
       " 'aoshangq': ('aoshangq', 0),\n",
       " 'aoshangqi': ('ao', 'shangqi'),\n",
       " 'aoshangqin': ('ao', 'shangqin'),\n",
       " 'aoshangqing': ('ao', 'shangqing'),\n",
       " 'aoshangqingh': ('aoshangqingh', 0),\n",
       " 'aoshangqinghu': ('ao', 'shangqinghu'),\n",
       " 'aoshangqinghua': ('ao', 'shangqinghua'),\n",
       " 'ya': ('ya', 0),\n",
       " 'yao': ('yao', 0),\n",
       " 'yaos': ('yaos', 0),\n",
       " 'yaosh': ('yaosh', 0),\n",
       " 'yaosha': ('yao', 'sha'),\n",
       " 'yaoshan': ('yao', 'shan'),\n",
       " 'yaoshang': ('yao', 'shang'),\n",
       " 'yaoshangq': ('yaoshangq', 0),\n",
       " 'yaoshangqi': ('yao', 'shangqi'),\n",
       " 'yaoshangqin': ('yao', 'shangqin'),\n",
       " 'yaoshangqing': ('yao', 'shangqing'),\n",
       " 'yaoshangqingh': ('yaoshangqingh', 0),\n",
       " 'yaoshangqinghu': ('yaoshangqing', 'hu'),\n",
       " 'yaoshangqinghua': ('yao', 'shangqinghua'),\n",
       " 'oy': ('oy', 0),\n",
       " 'oya': ('oya', 0),\n",
       " 'oyao': ('oyao', 0),\n",
       " 'oyaos': ('oyaos', 0),\n",
       " 'oyaosh': ('oyaosh', 0),\n",
       " 'oyaosha': ('oyaosha', 0),\n",
       " 'oyaoshan': ('oyaoshan', 0),\n",
       " 'oyaoshang': ('oyaoshang', 0),\n",
       " 'oyaoshangq': ('oyaoshangq', 0),\n",
       " 'oyaoshangqi': ('oyaoshangqi', 0),\n",
       " 'oyaoshangqin': ('oyaoshangqin', 0),\n",
       " 'oyaoshangqing': ('oyaoshangqing', 0),\n",
       " 'oyaoshangqingh': ('oyaoshangqingh', 0),\n",
       " 'oyaoshangqinghu': ('oyaoshangqinghu', 0),\n",
       " 'oyaoshangqinghua': ('oyaoshangqinghua', 0),\n",
       " 'wo': ('wo', 0),\n",
       " 'woy': ('woy', 0),\n",
       " 'woya': ('wo', 'ya'),\n",
       " 'woyao': ('wo', 'yao'),\n",
       " 'woyaos': ('woyaos', 0),\n",
       " 'woyaosh': ('woyaosh', 0),\n",
       " 'woyaosha': ('wo', 'yaosha'),\n",
       " 'woyaoshan': ('wo', 'yaoshan'),\n",
       " 'woyaoshang': ('wo', 'yaoshang'),\n",
       " 'woyaoshangq': ('woyaoshangq', 0),\n",
       " 'woyaoshangqi': ('wo', 'yaoshangqi'),\n",
       " 'woyaoshangqin': ('woyao', 'shangqin'),\n",
       " 'woyaoshangqing': ('wo', 'yaoshangqing'),\n",
       " 'woyaoshangqingh': ('woyaoshangqingh', 0),\n",
       " 'woyaoshangqinghu': ('wo', 'yaoshangqinghu'),\n",
       " 'woyaoshangqinghua': ('wo', 'yaoshangqinghua')}"
      ]
     },
     "execution_count": 79,
     "metadata": {},
     "output_type": "execute_result"
    }
   ],
   "source": [
    "solution"
   ]
  },
  {
   "cell_type": "code",
   "execution_count": 80,
   "metadata": {},
   "outputs": [],
   "source": [
    "def parse_solution(string:str, solution = solution):\n",
    "    left, right = solution[string]\n",
    "    if right == 0: return left+' '\n",
    "    \n",
    "    return parse_solution(left) + parse_solution(right)\n",
    "        "
   ]
  },
  {
   "cell_type": "code",
   "execution_count": 81,
   "metadata": {},
   "outputs": [
    {
     "data": {
      "text/plain": [
       "'wo yao shang qing hua '"
      ]
     },
     "execution_count": 81,
     "metadata": {},
     "output_type": "execute_result"
    }
   ],
   "source": [
    "parse_solution('woyaoshangqinghua')"
   ]
  },
  {
   "cell_type": "code",
   "execution_count": 100,
   "metadata": {},
   "outputs": [],
   "source": [
    "def auto_split_pinyin(string:str):\n",
    "    value = get(string)\n",
    "    result = parse_solution(string, solution = solution)\n",
    "    return result"
   ]
  },
  {
   "cell_type": "code",
   "execution_count": 101,
   "metadata": {},
   "outputs": [
    {
     "data": {
      "text/plain": [
       "'wo yao shang qing hua '"
      ]
     },
     "execution_count": 101,
     "metadata": {},
     "output_type": "execute_result"
    }
   ],
   "source": [
    "auto_split_pinyin('woyaoshangqinghua')"
   ]
  },
  {
   "cell_type": "code",
   "execution_count": 102,
   "metadata": {},
   "outputs": [
    {
     "data": {
      "text/plain": [
       "'lai zhe he ren '"
      ]
     },
     "execution_count": 102,
     "metadata": {},
     "output_type": "execute_result"
    }
   ],
   "source": [
    "auto_split_pinyin('laizheheren')"
   ]
  },
  {
   "cell_type": "code",
   "execution_count": 103,
   "metadata": {},
   "outputs": [
    {
     "data": {
      "text/plain": [
       "'bao shang ming lai '"
      ]
     },
     "execution_count": 103,
     "metadata": {},
     "output_type": "execute_result"
    }
   ],
   "source": [
    "auto_split_pinyin('baoshangminglai')"
   ]
  },
  {
   "cell_type": "code",
   "execution_count": 104,
   "metadata": {},
   "outputs": [
    {
     "data": {
      "text/plain": [
       "'shang shan ruo shui '"
      ]
     },
     "execution_count": 104,
     "metadata": {},
     "output_type": "execute_result"
    }
   ],
   "source": [
    "auto_split_pinyin('shangshanruoshui')"
   ]
  },
  {
   "cell_type": "code",
   "execution_count": 105,
   "metadata": {},
   "outputs": [
    {
     "data": {
      "text/plain": [
       "'hao hao xue xi '"
      ]
     },
     "execution_count": 105,
     "metadata": {},
     "output_type": "execute_result"
    }
   ],
   "source": [
    "auto_split_pinyin('haohaoxuexi')"
   ]
  },
  {
   "cell_type": "code",
   "execution_count": 106,
   "metadata": {},
   "outputs": [
    {
     "data": {
      "text/plain": [
       "'tian tian xiang shang '"
      ]
     },
     "execution_count": 106,
     "metadata": {},
     "output_type": "execute_result"
    }
   ],
   "source": [
    "auto_split_pinyin('tiantianxiangshang')"
   ]
  }
 ],
 "metadata": {
  "kernelspec": {
   "display_name": "Python 3",
   "language": "python",
   "name": "python3"
  },
  "language_info": {
   "codemirror_mode": {
    "name": "ipython",
    "version": 3
   },
   "file_extension": ".py",
   "mimetype": "text/x-python",
   "name": "python",
   "nbconvert_exporter": "python",
   "pygments_lexer": "ipython3",
   "version": "3.7.4"
  }
 },
 "nbformat": 4,
 "nbformat_minor": 2
}
